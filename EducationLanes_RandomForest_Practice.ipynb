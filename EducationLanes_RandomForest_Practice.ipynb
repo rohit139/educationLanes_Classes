{
  "nbformat": 4,
  "nbformat_minor": 0,
  "metadata": {
    "colab": {
      "name": "EducationLanes_RandomForest_Practice.ipynb",
      "version": "0.3.2",
      "provenance": [],
      "include_colab_link": true
    },
    "kernelspec": {
      "name": "python3",
      "display_name": "Python 3"
    }
  },
  "cells": [
    {
      "cell_type": "markdown",
      "metadata": {
        "id": "view-in-github",
        "colab_type": "text"
      },
      "source": [
        "<a href=\"https://colab.research.google.com/github/rohit139/educationLanes_Classes/blob/master/EducationLanes_RandomForest_Practice.ipynb\" target=\"_parent\"><img src=\"https://colab.research.google.com/assets/colab-badge.svg\" alt=\"Open In Colab\"/></a>"
      ]
    },
    {
      "metadata": {
        "id": "3VoRADTtVxzf",
        "colab_type": "code",
        "colab": {}
      },
      "cell_type": "code",
      "source": [
        "%reset -f"
      ],
      "execution_count": 0,
      "outputs": []
    },
    {
      "metadata": {
        "id": "OoeIa88AWs94",
        "colab_type": "code",
        "colab": {}
      },
      "cell_type": "code",
      "source": [
        "import numpy as np\n",
        "import pandas as pd\n",
        "import matplotlib.pyplot as plt"
      ],
      "execution_count": 0,
      "outputs": []
    },
    {
      "metadata": {
        "id": "jQ9tgFSmW7hW",
        "colab_type": "code",
        "colab": {}
      },
      "cell_type": "code",
      "source": [
        "# 1.3 Class for applying multiple data transformation jobs\n",
        "from sklearn.compose import ColumnTransformer as ct\n",
        "\n",
        "# 1.4 Scale numeric data\n",
        "from sklearn.preprocessing import StandardScaler as ss\n",
        "\n",
        "# 1.5 One hot encode data--Convert to dummy\n",
        "from sklearn.preprocessing import OneHotEncoder as ohe\n",
        "\n",
        "# 1.6 for data splitting\n",
        "from sklearn.model_selection import train_test_split"
      ],
      "execution_count": 0,
      "outputs": []
    },
    {
      "metadata": {
        "id": "9Ubvf6CMXNfk",
        "colab_type": "code",
        "colab": {}
      },
      "cell_type": "code",
      "source": [
        "# 1.7 Modeler\n",
        "# Ref: https://scikit-learn.org/stable/modules/generated/sklearn.tree.DecisionTreeClassifier.html\n",
        "# User guide: https://scikit-learn.org/stable/modules/tree.html\n",
        "from sklearn.tree import DecisionTreeClassifier as dt"
      ],
      "execution_count": 0,
      "outputs": []
    },
    {
      "metadata": {
        "id": "uzxl_UqsX0aI",
        "colab_type": "code",
        "colab": {}
      },
      "cell_type": "code",
      "source": [
        "# 1.9 Kill warnings\n",
        "import warnings\n",
        "warnings.filterwarnings(\"ignore\")"
      ],
      "execution_count": 0,
      "outputs": []
    },
    {
      "metadata": {
        "id": "mF8-zWdwX4o0",
        "colab_type": "code",
        "colab": {}
      },
      "cell_type": "code",
      "source": [
        "german = pd.read_csv(\"https://raw.githubusercontent.com/rohit139/educationLanes_Classes/master/dataFiles/german_credit.csv\")"
      ],
      "execution_count": 0,
      "outputs": []
    },
    {
      "metadata": {
        "id": "FuV76bXtYFNA",
        "colab_type": "code",
        "colab": {
          "base_uri": "https://localhost:8080/",
          "height": 224
        },
        "outputId": "1d3bd7d2-882f-422f-adfb-c552d1b9a72b"
      },
      "cell_type": "code",
      "source": [
        "german.head(5)"
      ],
      "execution_count": 8,
      "outputs": [
        {
          "output_type": "execute_result",
          "data": {
            "text/html": [
              "<div>\n",
              "<style scoped>\n",
              "    .dataframe tbody tr th:only-of-type {\n",
              "        vertical-align: middle;\n",
              "    }\n",
              "\n",
              "    .dataframe tbody tr th {\n",
              "        vertical-align: top;\n",
              "    }\n",
              "\n",
              "    .dataframe thead th {\n",
              "        text-align: right;\n",
              "    }\n",
              "</style>\n",
              "<table border=\"1\" class=\"dataframe\">\n",
              "  <thead>\n",
              "    <tr style=\"text-align: right;\">\n",
              "      <th></th>\n",
              "      <th>creditability</th>\n",
              "      <th>account_balance</th>\n",
              "      <th>previous_credit_payment_status</th>\n",
              "      <th>credit_duration_month</th>\n",
              "      <th>purpose_of_earlier_credit</th>\n",
              "      <th>credit_amount</th>\n",
              "      <th>installment_percent</th>\n",
              "      <th>current_emploment_length</th>\n",
              "      <th>sex_and_marital_status</th>\n",
              "      <th>guarantors</th>\n",
              "      <th>duration_at_current_address</th>\n",
              "      <th>most_valuable_available_asset</th>\n",
              "      <th>age</th>\n",
              "      <th>concurrent_credits</th>\n",
              "      <th>apartmenttype</th>\n",
              "      <th>howmanycreditsat_this_bank</th>\n",
              "      <th>occupation</th>\n",
              "      <th>dependents</th>\n",
              "      <th>telephone</th>\n",
              "      <th>foreign_worker</th>\n",
              "    </tr>\n",
              "  </thead>\n",
              "  <tbody>\n",
              "    <tr>\n",
              "      <th>0</th>\n",
              "      <td>1</td>\n",
              "      <td>1</td>\n",
              "      <td>4</td>\n",
              "      <td>18</td>\n",
              "      <td>2</td>\n",
              "      <td>1049</td>\n",
              "      <td>4</td>\n",
              "      <td>2</td>\n",
              "      <td>2</td>\n",
              "      <td>1</td>\n",
              "      <td>4</td>\n",
              "      <td>2</td>\n",
              "      <td>21</td>\n",
              "      <td>3</td>\n",
              "      <td>1</td>\n",
              "      <td>1</td>\n",
              "      <td>3</td>\n",
              "      <td>1</td>\n",
              "      <td>1</td>\n",
              "      <td>1</td>\n",
              "    </tr>\n",
              "    <tr>\n",
              "      <th>1</th>\n",
              "      <td>1</td>\n",
              "      <td>1</td>\n",
              "      <td>4</td>\n",
              "      <td>9</td>\n",
              "      <td>0</td>\n",
              "      <td>2799</td>\n",
              "      <td>2</td>\n",
              "      <td>3</td>\n",
              "      <td>3</td>\n",
              "      <td>1</td>\n",
              "      <td>2</td>\n",
              "      <td>1</td>\n",
              "      <td>36</td>\n",
              "      <td>3</td>\n",
              "      <td>1</td>\n",
              "      <td>2</td>\n",
              "      <td>3</td>\n",
              "      <td>2</td>\n",
              "      <td>1</td>\n",
              "      <td>1</td>\n",
              "    </tr>\n",
              "    <tr>\n",
              "      <th>2</th>\n",
              "      <td>1</td>\n",
              "      <td>2</td>\n",
              "      <td>2</td>\n",
              "      <td>12</td>\n",
              "      <td>9</td>\n",
              "      <td>841</td>\n",
              "      <td>2</td>\n",
              "      <td>4</td>\n",
              "      <td>2</td>\n",
              "      <td>1</td>\n",
              "      <td>4</td>\n",
              "      <td>1</td>\n",
              "      <td>23</td>\n",
              "      <td>3</td>\n",
              "      <td>1</td>\n",
              "      <td>1</td>\n",
              "      <td>2</td>\n",
              "      <td>1</td>\n",
              "      <td>1</td>\n",
              "      <td>1</td>\n",
              "    </tr>\n",
              "    <tr>\n",
              "      <th>3</th>\n",
              "      <td>1</td>\n",
              "      <td>1</td>\n",
              "      <td>4</td>\n",
              "      <td>12</td>\n",
              "      <td>0</td>\n",
              "      <td>2122</td>\n",
              "      <td>3</td>\n",
              "      <td>3</td>\n",
              "      <td>3</td>\n",
              "      <td>1</td>\n",
              "      <td>2</td>\n",
              "      <td>1</td>\n",
              "      <td>39</td>\n",
              "      <td>3</td>\n",
              "      <td>1</td>\n",
              "      <td>2</td>\n",
              "      <td>2</td>\n",
              "      <td>2</td>\n",
              "      <td>1</td>\n",
              "      <td>2</td>\n",
              "    </tr>\n",
              "    <tr>\n",
              "      <th>4</th>\n",
              "      <td>1</td>\n",
              "      <td>1</td>\n",
              "      <td>4</td>\n",
              "      <td>12</td>\n",
              "      <td>0</td>\n",
              "      <td>2171</td>\n",
              "      <td>4</td>\n",
              "      <td>3</td>\n",
              "      <td>3</td>\n",
              "      <td>1</td>\n",
              "      <td>4</td>\n",
              "      <td>2</td>\n",
              "      <td>38</td>\n",
              "      <td>1</td>\n",
              "      <td>2</td>\n",
              "      <td>2</td>\n",
              "      <td>2</td>\n",
              "      <td>1</td>\n",
              "      <td>1</td>\n",
              "      <td>2</td>\n",
              "    </tr>\n",
              "  </tbody>\n",
              "</table>\n",
              "</div>"
            ],
            "text/plain": [
              "   creditability  account_balance  previous_credit_payment_status  \\\n",
              "0              1                1                               4   \n",
              "1              1                1                               4   \n",
              "2              1                2                               2   \n",
              "3              1                1                               4   \n",
              "4              1                1                               4   \n",
              "\n",
              "   credit_duration_month  purpose_of_earlier_credit  credit_amount  \\\n",
              "0                     18                          2           1049   \n",
              "1                      9                          0           2799   \n",
              "2                     12                          9            841   \n",
              "3                     12                          0           2122   \n",
              "4                     12                          0           2171   \n",
              "\n",
              "   installment_percent  current_emploment_length  sex_and_marital_status  \\\n",
              "0                    4                         2                       2   \n",
              "1                    2                         3                       3   \n",
              "2                    2                         4                       2   \n",
              "3                    3                         3                       3   \n",
              "4                    4                         3                       3   \n",
              "\n",
              "   guarantors  duration_at_current_address  most_valuable_available_asset  \\\n",
              "0           1                            4                              2   \n",
              "1           1                            2                              1   \n",
              "2           1                            4                              1   \n",
              "3           1                            2                              1   \n",
              "4           1                            4                              2   \n",
              "\n",
              "   age  concurrent_credits  apartmenttype  howmanycreditsat_this_bank  \\\n",
              "0   21                   3              1                           1   \n",
              "1   36                   3              1                           2   \n",
              "2   23                   3              1                           1   \n",
              "3   39                   3              1                           2   \n",
              "4   38                   1              2                           2   \n",
              "\n",
              "   occupation  dependents  telephone  foreign_worker  \n",
              "0           3           1          1               1  \n",
              "1           3           2          1               1  \n",
              "2           2           1          1               1  \n",
              "3           2           2          1               2  \n",
              "4           2           1          1               2  "
            ]
          },
          "metadata": {
            "tags": []
          },
          "execution_count": 8
        }
      ]
    },
    {
      "metadata": {
        "id": "_v2fQMBIYQkV",
        "colab_type": "code",
        "colab": {
          "base_uri": "https://localhost:8080/",
          "height": 34
        },
        "outputId": "58f13baa-9d3b-49d4-c698-47a95549bfb2"
      },
      "cell_type": "code",
      "source": [
        "german.shape"
      ],
      "execution_count": 9,
      "outputs": [
        {
          "output_type": "execute_result",
          "data": {
            "text/plain": [
              "(1000, 20)"
            ]
          },
          "metadata": {
            "tags": []
          },
          "execution_count": 9
        }
      ]
    },
    {
      "metadata": {
        "id": "t3jNqo0dY_Pf",
        "colab_type": "code",
        "colab": {
          "base_uri": "https://localhost:8080/",
          "height": 153
        },
        "outputId": "f6a09a23-591e-48bc-c85c-5156541c5cd3"
      },
      "cell_type": "code",
      "source": [
        "german.columns"
      ],
      "execution_count": 10,
      "outputs": [
        {
          "output_type": "execute_result",
          "data": {
            "text/plain": [
              "Index(['creditability', 'account_balance', 'previous_credit_payment_status',\n",
              "       'credit_duration_month', 'purpose_of_earlier_credit', 'credit_amount',\n",
              "       'installment_percent', 'current_emploment_length',\n",
              "       'sex_and_marital_status', 'guarantors', 'duration_at_current_address',\n",
              "       'most_valuable_available_asset', 'age', 'concurrent_credits',\n",
              "       'apartmenttype', 'howmanycreditsat_this_bank', 'occupation',\n",
              "       'dependents', 'telephone', 'foreign_worker'],\n",
              "      dtype='object')"
            ]
          },
          "metadata": {
            "tags": []
          },
          "execution_count": 10
        }
      ]
    },
    {
      "metadata": {
        "id": "xhmKp2tZZEZQ",
        "colab_type": "code",
        "colab": {
          "base_uri": "https://localhost:8080/",
          "height": 374
        },
        "outputId": "a2a0bc80-dee4-471d-e6bb-9863cf31adbe"
      },
      "cell_type": "code",
      "source": [
        "german.dtypes"
      ],
      "execution_count": 12,
      "outputs": [
        {
          "output_type": "execute_result",
          "data": {
            "text/plain": [
              "creditability                     int64\n",
              "account_balance                   int64\n",
              "previous_credit_payment_status    int64\n",
              "credit_duration_month             int64\n",
              "purpose_of_earlier_credit         int64\n",
              "credit_amount                     int64\n",
              "installment_percent               int64\n",
              "current_emploment_length          int64\n",
              "sex_and_marital_status            int64\n",
              "guarantors                        int64\n",
              "duration_at_current_address       int64\n",
              "most_valuable_available_asset     int64\n",
              "age                               int64\n",
              "concurrent_credits                int64\n",
              "apartmenttype                     int64\n",
              "howmanycreditsat_this_bank        int64\n",
              "occupation                        int64\n",
              "dependents                        int64\n",
              "telephone                         int64\n",
              "foreign_worker                    int64\n",
              "dtype: object"
            ]
          },
          "metadata": {
            "tags": []
          },
          "execution_count": 12
        }
      ]
    },
    {
      "metadata": {
        "id": "mAqVItNrZHdX",
        "colab_type": "code",
        "colab": {
          "base_uri": "https://localhost:8080/",
          "height": 51
        },
        "outputId": "3c9d15e0-1bf3-448c-b3ec-e1d6f4c49b90"
      },
      "cell_type": "code",
      "source": [
        "german.dtypes.value_counts()"
      ],
      "execution_count": 13,
      "outputs": [
        {
          "output_type": "execute_result",
          "data": {
            "text/plain": [
              "int64    20\n",
              "dtype: int64"
            ]
          },
          "metadata": {
            "tags": []
          },
          "execution_count": 13
        }
      ]
    },
    {
      "metadata": {
        "id": "i83IUNPYZPZR",
        "colab_type": "code",
        "colab": {
          "base_uri": "https://localhost:8080/",
          "height": 224
        },
        "outputId": "63fa0e14-b3a5-4fef-bd7d-966873285930"
      },
      "cell_type": "code",
      "source": [
        "# 3.3 Shuffle data\n",
        "german = german.sample(frac = 1)\n",
        "german.tail()"
      ],
      "execution_count": 14,
      "outputs": [
        {
          "output_type": "execute_result",
          "data": {
            "text/html": [
              "<div>\n",
              "<style scoped>\n",
              "    .dataframe tbody tr th:only-of-type {\n",
              "        vertical-align: middle;\n",
              "    }\n",
              "\n",
              "    .dataframe tbody tr th {\n",
              "        vertical-align: top;\n",
              "    }\n",
              "\n",
              "    .dataframe thead th {\n",
              "        text-align: right;\n",
              "    }\n",
              "</style>\n",
              "<table border=\"1\" class=\"dataframe\">\n",
              "  <thead>\n",
              "    <tr style=\"text-align: right;\">\n",
              "      <th></th>\n",
              "      <th>creditability</th>\n",
              "      <th>account_balance</th>\n",
              "      <th>previous_credit_payment_status</th>\n",
              "      <th>credit_duration_month</th>\n",
              "      <th>purpose_of_earlier_credit</th>\n",
              "      <th>credit_amount</th>\n",
              "      <th>installment_percent</th>\n",
              "      <th>current_emploment_length</th>\n",
              "      <th>sex_and_marital_status</th>\n",
              "      <th>guarantors</th>\n",
              "      <th>duration_at_current_address</th>\n",
              "      <th>most_valuable_available_asset</th>\n",
              "      <th>age</th>\n",
              "      <th>concurrent_credits</th>\n",
              "      <th>apartmenttype</th>\n",
              "      <th>howmanycreditsat_this_bank</th>\n",
              "      <th>occupation</th>\n",
              "      <th>dependents</th>\n",
              "      <th>telephone</th>\n",
              "      <th>foreign_worker</th>\n",
              "    </tr>\n",
              "  </thead>\n",
              "  <tbody>\n",
              "    <tr>\n",
              "      <th>877</th>\n",
              "      <td>0</td>\n",
              "      <td>1</td>\n",
              "      <td>2</td>\n",
              "      <td>48</td>\n",
              "      <td>3</td>\n",
              "      <td>6758</td>\n",
              "      <td>3</td>\n",
              "      <td>3</td>\n",
              "      <td>2</td>\n",
              "      <td>1</td>\n",
              "      <td>2</td>\n",
              "      <td>3</td>\n",
              "      <td>31</td>\n",
              "      <td>3</td>\n",
              "      <td>2</td>\n",
              "      <td>1</td>\n",
              "      <td>3</td>\n",
              "      <td>1</td>\n",
              "      <td>2</td>\n",
              "      <td>1</td>\n",
              "    </tr>\n",
              "    <tr>\n",
              "      <th>107</th>\n",
              "      <td>1</td>\n",
              "      <td>4</td>\n",
              "      <td>2</td>\n",
              "      <td>18</td>\n",
              "      <td>3</td>\n",
              "      <td>1473</td>\n",
              "      <td>3</td>\n",
              "      <td>2</td>\n",
              "      <td>4</td>\n",
              "      <td>1</td>\n",
              "      <td>4</td>\n",
              "      <td>1</td>\n",
              "      <td>39</td>\n",
              "      <td>3</td>\n",
              "      <td>2</td>\n",
              "      <td>1</td>\n",
              "      <td>3</td>\n",
              "      <td>1</td>\n",
              "      <td>2</td>\n",
              "      <td>1</td>\n",
              "    </tr>\n",
              "    <tr>\n",
              "      <th>773</th>\n",
              "      <td>0</td>\n",
              "      <td>1</td>\n",
              "      <td>2</td>\n",
              "      <td>36</td>\n",
              "      <td>0</td>\n",
              "      <td>9271</td>\n",
              "      <td>2</td>\n",
              "      <td>4</td>\n",
              "      <td>3</td>\n",
              "      <td>1</td>\n",
              "      <td>1</td>\n",
              "      <td>3</td>\n",
              "      <td>24</td>\n",
              "      <td>3</td>\n",
              "      <td>2</td>\n",
              "      <td>1</td>\n",
              "      <td>3</td>\n",
              "      <td>1</td>\n",
              "      <td>2</td>\n",
              "      <td>1</td>\n",
              "    </tr>\n",
              "    <tr>\n",
              "      <th>518</th>\n",
              "      <td>0</td>\n",
              "      <td>4</td>\n",
              "      <td>2</td>\n",
              "      <td>24</td>\n",
              "      <td>3</td>\n",
              "      <td>5943</td>\n",
              "      <td>1</td>\n",
              "      <td>2</td>\n",
              "      <td>2</td>\n",
              "      <td>1</td>\n",
              "      <td>1</td>\n",
              "      <td>3</td>\n",
              "      <td>44</td>\n",
              "      <td>3</td>\n",
              "      <td>2</td>\n",
              "      <td>2</td>\n",
              "      <td>3</td>\n",
              "      <td>1</td>\n",
              "      <td>2</td>\n",
              "      <td>1</td>\n",
              "    </tr>\n",
              "    <tr>\n",
              "      <th>618</th>\n",
              "      <td>0</td>\n",
              "      <td>1</td>\n",
              "      <td>2</td>\n",
              "      <td>30</td>\n",
              "      <td>2</td>\n",
              "      <td>3108</td>\n",
              "      <td>2</td>\n",
              "      <td>2</td>\n",
              "      <td>1</td>\n",
              "      <td>1</td>\n",
              "      <td>4</td>\n",
              "      <td>2</td>\n",
              "      <td>31</td>\n",
              "      <td>3</td>\n",
              "      <td>2</td>\n",
              "      <td>1</td>\n",
              "      <td>2</td>\n",
              "      <td>1</td>\n",
              "      <td>1</td>\n",
              "      <td>1</td>\n",
              "    </tr>\n",
              "  </tbody>\n",
              "</table>\n",
              "</div>"
            ],
            "text/plain": [
              "     creditability  account_balance  previous_credit_payment_status  \\\n",
              "877              0                1                               2   \n",
              "107              1                4                               2   \n",
              "773              0                1                               2   \n",
              "518              0                4                               2   \n",
              "618              0                1                               2   \n",
              "\n",
              "     credit_duration_month  purpose_of_earlier_credit  credit_amount  \\\n",
              "877                     48                          3           6758   \n",
              "107                     18                          3           1473   \n",
              "773                     36                          0           9271   \n",
              "518                     24                          3           5943   \n",
              "618                     30                          2           3108   \n",
              "\n",
              "     installment_percent  current_emploment_length  sex_and_marital_status  \\\n",
              "877                    3                         3                       2   \n",
              "107                    3                         2                       4   \n",
              "773                    2                         4                       3   \n",
              "518                    1                         2                       2   \n",
              "618                    2                         2                       1   \n",
              "\n",
              "     guarantors  duration_at_current_address  most_valuable_available_asset  \\\n",
              "877           1                            2                              3   \n",
              "107           1                            4                              1   \n",
              "773           1                            1                              3   \n",
              "518           1                            1                              3   \n",
              "618           1                            4                              2   \n",
              "\n",
              "     age  concurrent_credits  apartmenttype  howmanycreditsat_this_bank  \\\n",
              "877   31                   3              2                           1   \n",
              "107   39                   3              2                           1   \n",
              "773   24                   3              2                           1   \n",
              "518   44                   3              2                           2   \n",
              "618   31                   3              2                           1   \n",
              "\n",
              "     occupation  dependents  telephone  foreign_worker  \n",
              "877           3           1          2               1  \n",
              "107           3           1          2               1  \n",
              "773           3           1          2               1  \n",
              "518           3           1          2               1  \n",
              "618           2           1          1               1  "
            ]
          },
          "metadata": {
            "tags": []
          },
          "execution_count": 14
        }
      ]
    },
    {
      "metadata": {
        "id": "ElYgmeonaPm4",
        "colab_type": "code",
        "colab": {
          "base_uri": "https://localhost:8080/",
          "height": 34
        },
        "outputId": "e60eccf7-fc32-4e24-a653-72719b1bde9a"
      },
      "cell_type": "code",
      "source": [
        "german.shape"
      ],
      "execution_count": 15,
      "outputs": [
        {
          "output_type": "execute_result",
          "data": {
            "text/plain": [
              "(1000, 20)"
            ]
          },
          "metadata": {
            "tags": []
          },
          "execution_count": 15
        }
      ]
    },
    {
      "metadata": {
        "id": "yjltaYocaTgU",
        "colab_type": "code",
        "colab": {}
      },
      "cell_type": "code",
      "source": [
        "# 4.0 Create some new variables\n",
        "#     from 'age' and 'credit_amount'\n",
        "\n",
        "german['age_cat'] = pd.cut(german['age'], 3, labels=[\"0\",\"1\",\"2\"])                      # Equal range cut\n",
        "german['age_qcat'] = pd.qcut(german['age'], 3, labels=[\"0\",\"1\",\"2\"])                    # Equal freq cut\n",
        "\n",
        "\n",
        "# 4.1\n",
        "german['credit_amount_cat'] = pd.cut(german['credit_amount'], 3, labels=[\"0\",\"1\",\"2\"])\n",
        "german['credit_amount_qcat'] = pd.cut(german['credit_amount'], 3, labels=[\"0\",\"1\",\"2\"])"
      ],
      "execution_count": 0,
      "outputs": []
    },
    {
      "metadata": {
        "id": "lK1262l_agEG",
        "colab_type": "code",
        "colab": {
          "base_uri": "https://localhost:8080/",
          "height": 85
        },
        "outputId": "6cc8a798-a305-4c54-a953-e286918ad782"
      },
      "cell_type": "code",
      "source": [
        "# 4.2 Separate predictors and target\n",
        "# 4.3 Popup target\n",
        "y = german.pop('creditability')\n",
        "y[:3]                 # Pandas Series\n"
      ],
      "execution_count": 17,
      "outputs": [
        {
          "output_type": "execute_result",
          "data": {
            "text/plain": [
              "79     1\n",
              "156    1\n",
              "744    1\n",
              "Name: creditability, dtype: int64"
            ]
          },
          "metadata": {
            "tags": []
          },
          "execution_count": 17
        }
      ]
    },
    {
      "metadata": {
        "id": "HXDiGMXTan01",
        "colab_type": "code",
        "colab": {
          "base_uri": "https://localhost:8080/",
          "height": 34
        },
        "outputId": "eaf07b94-c3c5-4f9a-c3a0-6db1ae294d09"
      },
      "cell_type": "code",
      "source": [
        "# 4.1 Remaining dataframe only has predictors\n",
        "#     Create an alias of german\n",
        "X = german\n",
        "X is german      # X is same as 'german'"
      ],
      "execution_count": 18,
      "outputs": [
        {
          "output_type": "execute_result",
          "data": {
            "text/plain": [
              "True"
            ]
          },
          "metadata": {
            "tags": []
          },
          "execution_count": 18
        }
      ]
    },
    {
      "metadata": {
        "id": "zmtn6jtMayeT",
        "colab_type": "code",
        "colab": {
          "base_uri": "https://localhost:8080/",
          "height": 425
        },
        "outputId": "162987d7-dcf0-4e73-e4bd-bb3372db8515"
      },
      "cell_type": "code",
      "source": [
        "### 4.2\n",
        "###    We now want to know which of the columns are categorical\n",
        "###    but disguised as integers\n",
        "\n",
        "\n",
        "# 4.3 How many unique vales per column.\n",
        "#     Check every column\n",
        "#     We will assume that if unique values are 4 or less\n",
        "#     it is categorical column else numeric\n",
        "X.nunique()\n",
        "X.nunique() < 5    # All True are categorical"
      ],
      "execution_count": 19,
      "outputs": [
        {
          "output_type": "execute_result",
          "data": {
            "text/plain": [
              "account_balance                    True\n",
              "previous_credit_payment_status    False\n",
              "credit_duration_month             False\n",
              "purpose_of_earlier_credit         False\n",
              "credit_amount                     False\n",
              "installment_percent                True\n",
              "current_emploment_length          False\n",
              "sex_and_marital_status             True\n",
              "guarantors                         True\n",
              "duration_at_current_address        True\n",
              "most_valuable_available_asset      True\n",
              "age                               False\n",
              "concurrent_credits                 True\n",
              "apartmenttype                      True\n",
              "howmanycreditsat_this_bank         True\n",
              "occupation                         True\n",
              "dependents                         True\n",
              "telephone                          True\n",
              "foreign_worker                     True\n",
              "age_cat                            True\n",
              "age_qcat                           True\n",
              "credit_amount_cat                  True\n",
              "credit_amount_qcat                 True\n",
              "dtype: bool"
            ]
          },
          "metadata": {
            "tags": []
          },
          "execution_count": 19
        }
      ]
    },
    {
      "metadata": {
        "id": "YPOqfEP2a-SS",
        "colab_type": "code",
        "colab": {
          "base_uri": "https://localhost:8080/",
          "height": 170
        },
        "outputId": "1ef1b56d-052f-40e9-c8d7-b8c133edf5e5"
      },
      "cell_type": "code",
      "source": [
        "# 4.3.1 Set difference operation\n",
        "X.columns"
      ],
      "execution_count": 20,
      "outputs": [
        {
          "output_type": "execute_result",
          "data": {
            "text/plain": [
              "Index(['account_balance', 'previous_credit_payment_status',\n",
              "       'credit_duration_month', 'purpose_of_earlier_credit', 'credit_amount',\n",
              "       'installment_percent', 'current_emploment_length',\n",
              "       'sex_and_marital_status', 'guarantors', 'duration_at_current_address',\n",
              "       'most_valuable_available_asset', 'age', 'concurrent_credits',\n",
              "       'apartmenttype', 'howmanycreditsat_this_bank', 'occupation',\n",
              "       'dependents', 'telephone', 'foreign_worker', 'age_cat', 'age_qcat',\n",
              "       'credit_amount_cat', 'credit_amount_qcat'],\n",
              "      dtype='object')"
            ]
          },
          "metadata": {
            "tags": []
          },
          "execution_count": 20
        }
      ]
    },
    {
      "metadata": {
        "id": "Z5jfc-SVbSx4",
        "colab_type": "code",
        "colab": {}
      },
      "cell_type": "code",
      "source": [
        "r = ['account_balance', 'previous_credit_payment_status', 'credit_duration_month',\n",
        "     'purpose_of_earlier_credit', 'credit_amount']"
      ],
      "execution_count": 0,
      "outputs": []
    },
    {
      "metadata": {
        "id": "I-QuXu5zbXKd",
        "colab_type": "code",
        "colab": {
          "base_uri": "https://localhost:8080/",
          "height": 323
        },
        "outputId": "03bdca99-0370-4ff6-da13-22bce8ee150d"
      },
      "cell_type": "code",
      "source": [
        "set(X.columns).difference(set(r))"
      ],
      "execution_count": 22,
      "outputs": [
        {
          "output_type": "execute_result",
          "data": {
            "text/plain": [
              "{'age',\n",
              " 'age_cat',\n",
              " 'age_qcat',\n",
              " 'apartmenttype',\n",
              " 'concurrent_credits',\n",
              " 'credit_amount_cat',\n",
              " 'credit_amount_qcat',\n",
              " 'current_emploment_length',\n",
              " 'dependents',\n",
              " 'duration_at_current_address',\n",
              " 'foreign_worker',\n",
              " 'guarantors',\n",
              " 'howmanycreditsat_this_bank',\n",
              " 'installment_percent',\n",
              " 'most_valuable_available_asset',\n",
              " 'occupation',\n",
              " 'sex_and_marital_status',\n",
              " 'telephone'}"
            ]
          },
          "metadata": {
            "tags": []
          },
          "execution_count": 22
        }
      ]
    },
    {
      "metadata": {
        "id": "vO3YfqZXbaEz",
        "colab_type": "code",
        "colab": {}
      },
      "cell_type": "code",
      "source": [
        "# 4.4 Define a function to separate out categorical/numerical columns\n",
        "def sep_Cat_Num_columns(dx):\n",
        "    \"\"\"\n",
        "    Takes as input DataFrame\n",
        "    Returns two lists:\n",
        "      i)  One of categorical columns\n",
        "      ii) Other of remaining numerical columns\n",
        "    \"\"\"\n",
        "    # 4.4.1\n",
        "    cat = dx.nunique() < 5                         # Will give True/False\n",
        "    # 4.4.2\n",
        "    categorical_columns = dx.loc[: , cat].columns  # List of cat columns\n",
        "    # 4.4.3 Remaining are numeric columns\n",
        "    numerical_columns = set(dx.columns).difference(set(categorical_columns))\n",
        "    # 4.4.4 Return a list of both columns\n",
        "    return list(categorical_columns),list(numerical_columns)"
      ],
      "execution_count": 0,
      "outputs": []
    },
    {
      "metadata": {
        "id": "R5OlNLelb_m7",
        "colab_type": "code",
        "colab": {
          "base_uri": "https://localhost:8080/",
          "height": 34
        },
        "outputId": "acb86455-665f-4257-8f25-de18c0f5dd5c"
      },
      "cell_type": "code",
      "source": [
        "# 5.0 Get the columns now\n",
        "sep_Cat_Num_columns.__doc__"
      ],
      "execution_count": 24,
      "outputs": [
        {
          "output_type": "execute_result",
          "data": {
            "text/plain": [
              "'\\n    Takes as input DataFrame\\n    Returns two lists:\\n      i)  One of categorical columns\\n      ii) Other of remaining numerical columns\\n    '"
            ]
          },
          "metadata": {
            "tags": []
          },
          "execution_count": 24
        }
      ]
    },
    {
      "metadata": {
        "id": "CQLqz09ncOQb",
        "colab_type": "code",
        "colab": {
          "base_uri": "https://localhost:8080/",
          "height": 119
        },
        "outputId": "4b252d38-b976-4eef-aa11-01affd97d6d7"
      },
      "cell_type": "code",
      "source": [
        "# 5.1\n",
        "categorical_columns,numerical_columns = sep_Cat_Num_columns(X)\n",
        "categorical_columns\n",
        "numerical_columns"
      ],
      "execution_count": 25,
      "outputs": [
        {
          "output_type": "execute_result",
          "data": {
            "text/plain": [
              "['current_emploment_length',\n",
              " 'previous_credit_payment_status',\n",
              " 'age',\n",
              " 'credit_amount',\n",
              " 'purpose_of_earlier_credit',\n",
              " 'credit_duration_month']"
            ]
          },
          "metadata": {
            "tags": []
          },
          "execution_count": 25
        }
      ]
    },
    {
      "metadata": {
        "id": "UyrU7BzecR_m",
        "colab_type": "code",
        "colab": {
          "base_uri": "https://localhost:8080/",
          "height": 306
        },
        "outputId": "fc755aa7-fdda-4fd4-c028-6e93b98690f8"
      },
      "cell_type": "code",
      "source": [
        "categorical_columns"
      ],
      "execution_count": 26,
      "outputs": [
        {
          "output_type": "execute_result",
          "data": {
            "text/plain": [
              "['account_balance',\n",
              " 'installment_percent',\n",
              " 'sex_and_marital_status',\n",
              " 'guarantors',\n",
              " 'duration_at_current_address',\n",
              " 'most_valuable_available_asset',\n",
              " 'concurrent_credits',\n",
              " 'apartmenttype',\n",
              " 'howmanycreditsat_this_bank',\n",
              " 'occupation',\n",
              " 'dependents',\n",
              " 'telephone',\n",
              " 'foreign_worker',\n",
              " 'age_cat',\n",
              " 'age_qcat',\n",
              " 'credit_amount_cat',\n",
              " 'credit_amount_qcat']"
            ]
          },
          "metadata": {
            "tags": []
          },
          "execution_count": 26
        }
      ]
    },
    {
      "metadata": {
        "id": "OFMzfFhAcVJl",
        "colab_type": "code",
        "colab": {}
      },
      "cell_type": "code",
      "source": [
        "###########################\n",
        "## Process/standardise data\n",
        "###########################\n",
        "\n",
        "#### Data Processing and Modeling: Simple Expt first"
      ],
      "execution_count": 0,
      "outputs": []
    },
    {
      "metadata": {
        "id": "8inzW4W_caR6",
        "colab_type": "code",
        "colab": {
          "base_uri": "https://localhost:8080/",
          "height": 235
        },
        "outputId": "8ec67f72-ee31-4a3b-dccd-d8bf5ac9c40b"
      },
      "cell_type": "code",
      "source": [
        "# 6.0 Create a small DataFrame with two categorical and two numeric variables\n",
        "dk = pd.DataFrame({'cat':    ['h', 'h', 'l', 'm', 'l', 'm'],\n",
        "                   'store' : ['a', 'a', 'b' ,'b', 'a','b'],\n",
        "                   'price' : [2,3,5,9,10,11],\n",
        "                   'qty'   : [100,200,400,800,900,900]\n",
        "                   })\n",
        "dk"
      ],
      "execution_count": 28,
      "outputs": [
        {
          "output_type": "execute_result",
          "data": {
            "text/html": [
              "<div>\n",
              "<style scoped>\n",
              "    .dataframe tbody tr th:only-of-type {\n",
              "        vertical-align: middle;\n",
              "    }\n",
              "\n",
              "    .dataframe tbody tr th {\n",
              "        vertical-align: top;\n",
              "    }\n",
              "\n",
              "    .dataframe thead th {\n",
              "        text-align: right;\n",
              "    }\n",
              "</style>\n",
              "<table border=\"1\" class=\"dataframe\">\n",
              "  <thead>\n",
              "    <tr style=\"text-align: right;\">\n",
              "      <th></th>\n",
              "      <th>cat</th>\n",
              "      <th>store</th>\n",
              "      <th>price</th>\n",
              "      <th>qty</th>\n",
              "    </tr>\n",
              "  </thead>\n",
              "  <tbody>\n",
              "    <tr>\n",
              "      <th>0</th>\n",
              "      <td>h</td>\n",
              "      <td>a</td>\n",
              "      <td>2</td>\n",
              "      <td>100</td>\n",
              "    </tr>\n",
              "    <tr>\n",
              "      <th>1</th>\n",
              "      <td>h</td>\n",
              "      <td>a</td>\n",
              "      <td>3</td>\n",
              "      <td>200</td>\n",
              "    </tr>\n",
              "    <tr>\n",
              "      <th>2</th>\n",
              "      <td>l</td>\n",
              "      <td>b</td>\n",
              "      <td>5</td>\n",
              "      <td>400</td>\n",
              "    </tr>\n",
              "    <tr>\n",
              "      <th>3</th>\n",
              "      <td>m</td>\n",
              "      <td>b</td>\n",
              "      <td>9</td>\n",
              "      <td>800</td>\n",
              "    </tr>\n",
              "    <tr>\n",
              "      <th>4</th>\n",
              "      <td>l</td>\n",
              "      <td>a</td>\n",
              "      <td>10</td>\n",
              "      <td>900</td>\n",
              "    </tr>\n",
              "    <tr>\n",
              "      <th>5</th>\n",
              "      <td>m</td>\n",
              "      <td>b</td>\n",
              "      <td>11</td>\n",
              "      <td>900</td>\n",
              "    </tr>\n",
              "  </tbody>\n",
              "</table>\n",
              "</div>"
            ],
            "text/plain": [
              "  cat store  price  qty\n",
              "0   h     a      2  100\n",
              "1   h     a      3  200\n",
              "2   l     b      5  400\n",
              "3   m     b      9  800\n",
              "4   l     a     10  900\n",
              "5   m     b     11  900"
            ]
          },
          "metadata": {
            "tags": []
          },
          "execution_count": 28
        }
      ]
    },
    {
      "metadata": {
        "id": "vWzBWLa0dh4-",
        "colab_type": "code",
        "colab": {
          "base_uri": "https://localhost:8080/",
          "height": 119
        },
        "outputId": "39be92f2-79d2-4308-c8a9-f84058e86474"
      },
      "cell_type": "code",
      "source": [
        "# 8.1 OneHotEncode categorical variables\n",
        "onehot = ohe(sparse = False)               # Create object instance\n",
        "onehot.fit(dk[['cat', 'store']])           # Learn data\n",
        "t = onehot.transform(dk[['cat','store']])  # Now transform\n",
        "t"
      ],
      "execution_count": 29,
      "outputs": [
        {
          "output_type": "execute_result",
          "data": {
            "text/plain": [
              "array([[1., 0., 0., 1., 0.],\n",
              "       [1., 0., 0., 1., 0.],\n",
              "       [0., 1., 0., 0., 1.],\n",
              "       [0., 0., 1., 0., 1.],\n",
              "       [0., 1., 0., 1., 0.],\n",
              "       [0., 0., 1., 0., 1.]])"
            ]
          },
          "metadata": {
            "tags": []
          },
          "execution_count": 29
        }
      ]
    },
    {
      "metadata": {
        "id": "InhyINZYdo2h",
        "colab_type": "code",
        "colab": {
          "base_uri": "https://localhost:8080/",
          "height": 119
        },
        "outputId": "76c883e7-e9fd-4982-c844-f703611c401c"
      },
      "cell_type": "code",
      "source": [
        "# 8.2 Scale numeric data\n",
        "scaleit = ss()\n",
        "scaleit.fit(dk[['price','qty']])\n",
        "scaleit.transform(dk[['price','qty']])"
      ],
      "execution_count": 30,
      "outputs": [
        {
          "output_type": "execute_result",
          "data": {
            "text/plain": [
              "array([[-1.33484762, -1.36196984],\n",
              "       [-1.04880885, -1.05930987],\n",
              "       [-0.47673129, -0.45398995],\n",
              "       [ 0.66742381,  0.75664991],\n",
              "       [ 0.95346259,  1.05930987],\n",
              "       [ 1.23950137,  1.05930987]])"
            ]
          },
          "metadata": {
            "tags": []
          },
          "execution_count": 30
        }
      ]
    },
    {
      "metadata": {
        "id": "WBcb0LxMd4lX",
        "colab_type": "code",
        "colab": {}
      },
      "cell_type": "code",
      "source": [
        "# 8.3 Columnar transformer: Two-in-one\n",
        "#     Use both ohe and scaler in a composite operation\n",
        "\n",
        "# 8.4 Define operations to perform and on which columns\n",
        "#     Format: (name, transformer, columns)\n",
        "\n",
        "op1 = (\"cat_col\", ohe(sparse = False), ['cat', 'store'])\n",
        "op2 = (\"num_col\", ss(), ['price','qty'])"
      ],
      "execution_count": 0,
      "outputs": []
    },
    {
      "metadata": {
        "id": "5BEhHRUFeXfX",
        "colab_type": "code",
        "colab": {
          "base_uri": "https://localhost:8080/",
          "height": 68
        },
        "outputId": "3d2af7fd-bac7-46d3-8e19-fbaf6713e740"
      },
      "cell_type": "code",
      "source": [
        "op1"
      ],
      "execution_count": 32,
      "outputs": [
        {
          "output_type": "execute_result",
          "data": {
            "text/plain": [
              "('cat_col', OneHotEncoder(categorical_features=None, categories=None,\n",
              "        dtype=<class 'numpy.float64'>, handle_unknown='error',\n",
              "        n_values=None, sparse=False), ['cat', 'store'])"
            ]
          },
          "metadata": {
            "tags": []
          },
          "execution_count": 32
        }
      ]
    },
    {
      "metadata": {
        "id": "N4R-8Br6eZk1",
        "colab_type": "code",
        "colab": {
          "base_uri": "https://localhost:8080/",
          "height": 68
        },
        "outputId": "0ef6d317-fb35-45a8-a6fc-cc231204eea0"
      },
      "cell_type": "code",
      "source": [
        "op2"
      ],
      "execution_count": 33,
      "outputs": [
        {
          "output_type": "execute_result",
          "data": {
            "text/plain": [
              "('num_col',\n",
              " StandardScaler(copy=True, with_mean=True, with_std=True),\n",
              " ['price', 'qty'])"
            ]
          },
          "metadata": {
            "tags": []
          },
          "execution_count": 33
        }
      ]
    },
    {
      "metadata": {
        "id": "izFWmLbPedHR",
        "colab_type": "code",
        "colab": {}
      },
      "cell_type": "code",
      "source": [
        "# 8.5 Create column-transformer object to perform these operations\n",
        "#     The object contains one list of operations\n",
        "col_transformer = ct([op1,op2])     # Instaniation"
      ],
      "execution_count": 0,
      "outputs": []
    },
    {
      "metadata": {
        "id": "ryhW5Nb2eyVQ",
        "colab_type": "code",
        "colab": {
          "base_uri": "https://localhost:8080/",
          "height": 102
        },
        "outputId": "197bd217-5f83-4640-b678-5ca2a392d88c"
      },
      "cell_type": "code",
      "source": [
        "col_transformer"
      ],
      "execution_count": 35,
      "outputs": [
        {
          "output_type": "execute_result",
          "data": {
            "text/plain": [
              "ColumnTransformer(n_jobs=None, remainder='drop', sparse_threshold=0.3,\n",
              "         transformer_weights=None,\n",
              "         transformers=[('cat_col', OneHotEncoder(categorical_features=None, categories=None,\n",
              "       dtype=<class 'numpy.float64'>, handle_unknown='error',\n",
              "       n_values=None, sparse=False), ['cat', 'store']), ('num_col', StandardScaler(copy=True, with_mean=True, with_std=True), ['price', 'qty'])])"
            ]
          },
          "metadata": {
            "tags": []
          },
          "execution_count": 35
        }
      ]
    },
    {
      "metadata": {
        "id": "sFj0e12ce0w_",
        "colab_type": "code",
        "colab": {
          "base_uri": "https://localhost:8080/",
          "height": 221
        },
        "outputId": "c29ebda0-e558-4487-8f56-776493a6e6f9"
      },
      "cell_type": "code",
      "source": [
        "# 8.6 Fit and transform now\n",
        "col_transformer.fit(dk)             # Learn data (dk)\n",
        "u = col_transformer.transform(dk)   # Transformation of dk\n",
        "u"
      ],
      "execution_count": 36,
      "outputs": [
        {
          "output_type": "execute_result",
          "data": {
            "text/plain": [
              "array([[ 1.        ,  0.        ,  0.        ,  1.        ,  0.        ,\n",
              "        -1.33484762, -1.36196984],\n",
              "       [ 1.        ,  0.        ,  0.        ,  1.        ,  0.        ,\n",
              "        -1.04880885, -1.05930987],\n",
              "       [ 0.        ,  1.        ,  0.        ,  0.        ,  1.        ,\n",
              "        -0.47673129, -0.45398995],\n",
              "       [ 0.        ,  0.        ,  1.        ,  0.        ,  1.        ,\n",
              "         0.66742381,  0.75664991],\n",
              "       [ 0.        ,  1.        ,  0.        ,  1.        ,  0.        ,\n",
              "         0.95346259,  1.05930987],\n",
              "       [ 0.        ,  0.        ,  1.        ,  0.        ,  1.        ,\n",
              "         1.23950137,  1.05930987]])"
            ]
          },
          "metadata": {
            "tags": []
          },
          "execution_count": 36
        }
      ]
    },
    {
      "metadata": {
        "id": "hk8y0BQRe_vJ",
        "colab_type": "code",
        "colab": {}
      },
      "cell_type": "code",
      "source": [
        "########### Expt finished. Now create function\n",
        "\n",
        "# 9.0 Following function does all the above\n",
        "def transform(categorical_columns,numerical_columns,X):\n",
        "    #  Create a tuple of processing tasks:\n",
        "    #  (taskName, objectToPerformTask, columns-upon-which-to-perform)\n",
        "    # 9.1 One hot encode categorical columns\n",
        "    cat = ('categorical', ohe() , categorical_columns  )\n",
        "    # 9.2 Scale numerical columns\n",
        "    num = ('numeric', ss(), numerical_columns)\n",
        "    # 9.3 Instantiate columnTransformer object to perform task\n",
        "    #     It transforms X separately by each transformer\n",
        "    #     and then concatenates results.\n",
        "    col_trans = ct([cat, num])\n",
        "    # 9.4 Learn data\n",
        "    col_trans.fit(X)\n",
        "    # 9.5 Now transform X\n",
        "    X_tarnsAndScaled = col_trans.transform(X)\n",
        "    # 9.6 Return transformed data and also transformation object\n",
        "    return X_tarnsAndScaled, col_trans"
      ],
      "execution_count": 0,
      "outputs": []
    },
    {
      "metadata": {
        "id": "zE9BJ5X2fh8r",
        "colab_type": "code",
        "colab": {}
      },
      "cell_type": "code",
      "source": [
        "# 10.0 Transform both datasets\n",
        "X_tarnsAndScaled, _  = transform(categorical_columns, numerical_columns, X)"
      ],
      "execution_count": 0,
      "outputs": []
    },
    {
      "metadata": {
        "id": "sYEISlthfmiK",
        "colab_type": "code",
        "colab": {
          "base_uri": "https://localhost:8080/",
          "height": 34
        },
        "outputId": "ea8386f1-39e8-4ba2-f393-2cfec21764f2"
      },
      "cell_type": "code",
      "source": [
        "# 10.1\n",
        "X_tarnsAndScaled.shape "
      ],
      "execution_count": 39,
      "outputs": [
        {
          "output_type": "execute_result",
          "data": {
            "text/plain": [
              "(1000, 61)"
            ]
          },
          "metadata": {
            "tags": []
          },
          "execution_count": 39
        }
      ]
    },
    {
      "metadata": {
        "id": "DJwo5fFffp5F",
        "colab_type": "code",
        "colab": {
          "base_uri": "https://localhost:8080/",
          "height": 102
        },
        "outputId": "56b3f62f-4fe3-4c79-898c-cd156b1246bc"
      },
      "cell_type": "code",
      "source": [
        "X_tarnsAndScaled[:5, :3]"
      ],
      "execution_count": 40,
      "outputs": [
        {
          "output_type": "execute_result",
          "data": {
            "text/plain": [
              "array([[0., 0., 0.],\n",
              "       [1., 0., 0.],\n",
              "       [0., 0., 0.],\n",
              "       [1., 0., 0.],\n",
              "       [0., 0., 0.]])"
            ]
          },
          "metadata": {
            "tags": []
          },
          "execution_count": 40
        }
      ]
    },
    {
      "metadata": {
        "id": "088VolmNfsxh",
        "colab_type": "code",
        "colab": {
          "base_uri": "https://localhost:8080/",
          "height": 102
        },
        "outputId": "d4f52023-a206-4b0f-c646-48366b2db166"
      },
      "cell_type": "code",
      "source": [
        "X_tarnsAndScaled[:5,58:] "
      ],
      "execution_count": 41,
      "outputs": [
        {
          "output_type": "execute_result",
          "data": {
            "text/plain": [
              "array([[-0.45802632,  0.06270354, -0.48976238],\n",
              "       [-0.62851269,  0.06270354, -0.73866754],\n",
              "       [ 0.54575201, -0.66640737,  0.75476341],\n",
              "       [-0.89044496, -1.03096283, -0.73866754],\n",
              "       [-0.8301899 , -0.30185192,  0.25695309]])"
            ]
          },
          "metadata": {
            "tags": []
          },
          "execution_count": 41
        }
      ]
    },
    {
      "metadata": {
        "id": "Sr4Z88M1fvdy",
        "colab_type": "code",
        "colab": {}
      },
      "cell_type": "code",
      "source": [
        "###########################\n",
        "## Split and model\n",
        "###########################\n",
        "\n",
        "# 11 Split into train and test datasets AS ALSO GET INDICIES\n",
        "X_train,X_test, y_train, y_test = train_test_split(\n",
        "                                                    X_tarnsAndScaled,    # Predictors\n",
        "                                                    y,                   # Target\n",
        "                                                    test_size = 0.3      # split-ratio\n",
        "                                                    )"
      ],
      "execution_count": 0,
      "outputs": []
    },
    {
      "metadata": {
        "id": "3EESTF7Df8FW",
        "colab_type": "code",
        "colab": {
          "base_uri": "https://localhost:8080/",
          "height": 85
        },
        "outputId": "778d805d-e103-4167-ff19-6d7c2bee6b4a"
      },
      "cell_type": "code",
      "source": [
        "# 11.2 Check the splits\n",
        "print(X_train.shape)       # 700 X 61\n",
        "print(X_test.shape)        # 300 X 61\n",
        "print(y_train.shape)       # (700,)\n",
        "print(y_test.shape)        # (300,)"
      ],
      "execution_count": 43,
      "outputs": [
        {
          "output_type": "stream",
          "text": [
            "(700, 61)\n",
            "(300, 61)\n",
            "(700,)\n",
            "(300,)\n"
          ],
          "name": "stdout"
        }
      ]
    },
    {
      "metadata": {
        "id": "aPAv9OWHgLXL",
        "colab_type": "code",
        "colab": {}
      },
      "cell_type": "code",
      "source": [
        "# 12.0 Modeling\n",
        "# 12.1 Instantiate decision tree modeling object\n",
        "clf = dt()            # Accept all default parameters"
      ],
      "execution_count": 0,
      "outputs": []
    },
    {
      "metadata": {
        "id": "PJnSTWc7gar0",
        "colab_type": "code",
        "colab": {
          "base_uri": "https://localhost:8080/",
          "height": 119
        },
        "outputId": "2dab75b8-2f15-4f53-8c43-1dae47f6c7fb"
      },
      "cell_type": "code",
      "source": [
        "# 12.2 Training\n",
        "clf.fit(X_train,y_train)   # Train now"
      ],
      "execution_count": 45,
      "outputs": [
        {
          "output_type": "execute_result",
          "data": {
            "text/plain": [
              "DecisionTreeClassifier(class_weight=None, criterion='gini', max_depth=None,\n",
              "            max_features=None, max_leaf_nodes=None,\n",
              "            min_impurity_decrease=0.0, min_impurity_split=None,\n",
              "            min_samples_leaf=1, min_samples_split=2,\n",
              "            min_weight_fraction_leaf=0.0, presort=False, random_state=None,\n",
              "            splitter='best')"
            ]
          },
          "metadata": {
            "tags": []
          },
          "execution_count": 45
        }
      ]
    },
    {
      "metadata": {
        "id": "5cVk_bMegdgK",
        "colab_type": "code",
        "colab": {}
      },
      "cell_type": "code",
      "source": [
        "# 12.3 Prediction\n",
        "out = clf.predict(X_test)"
      ],
      "execution_count": 0,
      "outputs": []
    },
    {
      "metadata": {
        "id": "Cva4ss3igjs_",
        "colab_type": "code",
        "colab": {
          "base_uri": "https://localhost:8080/",
          "height": 34
        },
        "outputId": "da250285-fe30-4f38-cb43-4054f9a58b7a"
      },
      "cell_type": "code",
      "source": [
        "# 12.4 Accuracy?\n",
        "np.sum(out == y_test)/y_test.values.size"
      ],
      "execution_count": 47,
      "outputs": [
        {
          "output_type": "execute_result",
          "data": {
            "text/plain": [
              "0.6633333333333333"
            ]
          },
          "metadata": {
            "tags": []
          },
          "execution_count": 47
        }
      ]
    },
    {
      "metadata": {
        "id": "b9CEekAGgmbh",
        "colab_type": "code",
        "colab": {}
      },
      "cell_type": "code",
      "source": [
        "### 13.0 Column importance\n",
        "# 13 Which columns are important\n",
        "impt = clf.feature_importances_"
      ],
      "execution_count": 0,
      "outputs": []
    },
    {
      "metadata": {
        "id": "lfnP-U0Gg7o7",
        "colab_type": "code",
        "colab": {
          "base_uri": "https://localhost:8080/",
          "height": 238
        },
        "outputId": "4509acd7-e82a-4ff1-bd45-84a3015c0fbf"
      },
      "cell_type": "code",
      "source": [
        "impt"
      ],
      "execution_count": 49,
      "outputs": [
        {
          "output_type": "execute_result",
          "data": {
            "text/plain": [
              "array([0.02509363, 0.01342604, 0.00610537, 0.10017415, 0.00790178,\n",
              "       0.00984576, 0.02756398, 0.01406537, 0.00524545, 0.00831633,\n",
              "       0.02716608, 0.00799169, 0.00600886, 0.00423559, 0.00230597,\n",
              "       0.01661001, 0.0266054 , 0.0095474 , 0.00447535, 0.        ,\n",
              "       0.01291731, 0.00736688, 0.        , 0.        , 0.        ,\n",
              "       0.00661476, 0.00447535, 0.        , 0.00812095, 0.00447535,\n",
              "       0.00671302, 0.0113924 , 0.        , 0.        , 0.01359258,\n",
              "       0.00447535, 0.01309039, 0.00575402, 0.01564373, 0.00447535,\n",
              "       0.00864381, 0.        , 0.00569118, 0.00335651, 0.00906257,\n",
              "       0.        , 0.01208743, 0.00584445, 0.        , 0.        ,\n",
              "       0.        , 0.        , 0.        , 0.        , 0.        ,\n",
              "       0.07297984, 0.04984173, 0.08640535, 0.17533296, 0.03719571,\n",
              "       0.09176682])"
            ]
          },
          "metadata": {
            "tags": []
          },
          "execution_count": 49
        }
      ]
    },
    {
      "metadata": {
        "id": "R7IlxYCHg8z6",
        "colab_type": "code",
        "colab": {}
      },
      "cell_type": "code",
      "source": [
        "\n",
        "cols = categorical_columns + numerical_columns"
      ],
      "execution_count": 0,
      "outputs": []
    },
    {
      "metadata": {
        "id": "jDKrMQ1Pg-g7",
        "colab_type": "code",
        "colab": {
          "base_uri": "https://localhost:8080/",
          "height": 408
        },
        "outputId": "a6ce3867-b5b0-413d-cb3c-68b5ee3b0371"
      },
      "cell_type": "code",
      "source": [
        "cols"
      ],
      "execution_count": 51,
      "outputs": [
        {
          "output_type": "execute_result",
          "data": {
            "text/plain": [
              "['account_balance',\n",
              " 'installment_percent',\n",
              " 'sex_and_marital_status',\n",
              " 'guarantors',\n",
              " 'duration_at_current_address',\n",
              " 'most_valuable_available_asset',\n",
              " 'concurrent_credits',\n",
              " 'apartmenttype',\n",
              " 'howmanycreditsat_this_bank',\n",
              " 'occupation',\n",
              " 'dependents',\n",
              " 'telephone',\n",
              " 'foreign_worker',\n",
              " 'age_cat',\n",
              " 'age_qcat',\n",
              " 'credit_amount_cat',\n",
              " 'credit_amount_qcat',\n",
              " 'current_emploment_length',\n",
              " 'previous_credit_payment_status',\n",
              " 'age',\n",
              " 'credit_amount',\n",
              " 'purpose_of_earlier_credit',\n",
              " 'credit_duration_month']"
            ]
          },
          "metadata": {
            "tags": []
          },
          "execution_count": 51
        }
      ]
    },
    {
      "metadata": {
        "id": "TLsMbLVog_1J",
        "colab_type": "code",
        "colab": {
          "base_uri": "https://localhost:8080/",
          "height": 408
        },
        "outputId": "a2c80248-d84b-445d-ec7a-4e83c919643f"
      },
      "cell_type": "code",
      "source": [
        "# 13.1 Sort out zip\n",
        "sorted(zip(impt,cols), reverse = True)"
      ],
      "execution_count": 52,
      "outputs": [
        {
          "output_type": "execute_result",
          "data": {
            "text/plain": [
              "[(0.1001741543145696, 'guarantors'),\n",
              " (0.027563981209995973, 'concurrent_credits'),\n",
              " (0.027166076594158945, 'dependents'),\n",
              " (0.02660539657718406, 'credit_amount_qcat'),\n",
              " (0.025093627816674423, 'account_balance'),\n",
              " (0.016610013199244617, 'credit_amount_cat'),\n",
              " (0.01406537201310637, 'apartmenttype'),\n",
              " (0.013426036921601535, 'installment_percent'),\n",
              " (0.012917314389328747, 'credit_amount'),\n",
              " (0.009845760409174457, 'most_valuable_available_asset'),\n",
              " (0.00954740403313887, 'current_emploment_length'),\n",
              " (0.008316326138721084, 'occupation'),\n",
              " (0.007991688643810438, 'telephone'),\n",
              " (0.007901782146567565, 'duration_at_current_address'),\n",
              " (0.007366883895294351, 'purpose_of_earlier_credit'),\n",
              " (0.006105374548400703, 'sex_and_marital_status'),\n",
              " (0.006008855685192294, 'foreign_worker'),\n",
              " (0.005245453818937399, 'howmanycreditsat_this_bank'),\n",
              " (0.004475345640533845, 'previous_credit_payment_status'),\n",
              " (0.0042355949812195315, 'age_cat'),\n",
              " (0.002305965432314057, 'age_qcat'),\n",
              " (0.0, 'credit_duration_month'),\n",
              " (0.0, 'age')]"
            ]
          },
          "metadata": {
            "tags": []
          },
          "execution_count": 52
        }
      ]
    },
    {
      "metadata": {
        "id": "TE8imjlshHI8",
        "colab_type": "code",
        "colab": {}
      },
      "cell_type": "code",
      "source": [
        "# 14.5 Instantiate modeler class\n",
        "clf = dt(min_samples_leaf = 5)    # Change number of data-points on leaf\n"
      ],
      "execution_count": 0,
      "outputs": []
    },
    {
      "metadata": {
        "id": "oTGZHQzAhkdB",
        "colab_type": "code",
        "colab": {
          "base_uri": "https://localhost:8080/",
          "height": 119
        },
        "outputId": "e5706909-cecc-40f1-ecef-3236266b77b9"
      },
      "cell_type": "code",
      "source": [
        "# 14.1 Train and develop model\n",
        "clf.fit(X_train,y_train)\n"
      ],
      "execution_count": 55,
      "outputs": [
        {
          "output_type": "execute_result",
          "data": {
            "text/plain": [
              "DecisionTreeClassifier(class_weight=None, criterion='gini', max_depth=None,\n",
              "            max_features=None, max_leaf_nodes=None,\n",
              "            min_impurity_decrease=0.0, min_impurity_split=None,\n",
              "            min_samples_leaf=5, min_samples_split=2,\n",
              "            min_weight_fraction_leaf=0.0, presort=False, random_state=None,\n",
              "            splitter='best')"
            ]
          },
          "metadata": {
            "tags": []
          },
          "execution_count": 55
        }
      ]
    },
    {
      "metadata": {
        "id": "qOyI88jIhpJ_",
        "colab_type": "code",
        "colab": {}
      },
      "cell_type": "code",
      "source": [
        "# 14.2 Predict\n",
        "out = clf.predict(X_test)\n"
      ],
      "execution_count": 0,
      "outputs": []
    },
    {
      "metadata": {
        "id": "gPn9vbZHhsMO",
        "colab_type": "code",
        "colab": {
          "base_uri": "https://localhost:8080/",
          "height": 34
        },
        "outputId": "0676bfcd-a19f-4b1f-e410-020965e7abaf"
      },
      "cell_type": "code",
      "source": [
        "np.sum(out == y_test)/y_test.values.size   # No change"
      ],
      "execution_count": 59,
      "outputs": [
        {
          "output_type": "execute_result",
          "data": {
            "text/plain": [
              "0.6866666666666666"
            ]
          },
          "metadata": {
            "tags": []
          },
          "execution_count": 59
        }
      ]
    },
    {
      "metadata": {
        "id": "RCvj5lZ5h85I",
        "colab_type": "code",
        "colab": {}
      },
      "cell_type": "code",
      "source": [
        "###################### Random Forest ############################\n",
        "\n",
        "from sklearn.ensemble import RandomForestClassifier #use RandomForestRegressor for regression problem\n",
        "# Create Random Forest object\n",
        "model_rf= RandomForestClassifier(n_estimators=100)\n"
      ],
      "execution_count": 0,
      "outputs": []
    },
    {
      "metadata": {
        "id": "l8EIbQw4iLAe",
        "colab_type": "code",
        "colab": {
          "base_uri": "https://localhost:8080/",
          "height": 136
        },
        "outputId": "5f4a7f64-90bf-4d8d-c032-42facc22d960"
      },
      "cell_type": "code",
      "source": [
        "# Train the model using the training sets and check score\n",
        "model_rf.fit(X_train, y_train)"
      ],
      "execution_count": 61,
      "outputs": [
        {
          "output_type": "execute_result",
          "data": {
            "text/plain": [
              "RandomForestClassifier(bootstrap=True, class_weight=None, criterion='gini',\n",
              "            max_depth=None, max_features='auto', max_leaf_nodes=None,\n",
              "            min_impurity_decrease=0.0, min_impurity_split=None,\n",
              "            min_samples_leaf=1, min_samples_split=2,\n",
              "            min_weight_fraction_leaf=0.0, n_estimators=100, n_jobs=None,\n",
              "            oob_score=False, random_state=None, verbose=0,\n",
              "            warm_start=False)"
            ]
          },
          "metadata": {
            "tags": []
          },
          "execution_count": 61
        }
      ]
    },
    {
      "metadata": {
        "id": "dCYLz9LjiQmf",
        "colab_type": "code",
        "colab": {}
      },
      "cell_type": "code",
      "source": [
        "#Predict Output\n",
        "predicted= model_rf.predict(X_test)"
      ],
      "execution_count": 0,
      "outputs": []
    },
    {
      "metadata": {
        "id": "NWoDU1IBiTZk",
        "colab_type": "code",
        "colab": {
          "base_uri": "https://localhost:8080/",
          "height": 34
        },
        "outputId": "92cb1493-8d78-45d4-f564-b83423b1313f"
      },
      "cell_type": "code",
      "source": [
        "np.sum(predicted == y_test)/y_test.values.size  "
      ],
      "execution_count": 63,
      "outputs": [
        {
          "output_type": "execute_result",
          "data": {
            "text/plain": [
              "0.7833333333333333"
            ]
          },
          "metadata": {
            "tags": []
          },
          "execution_count": 63
        }
      ]
    },
    {
      "metadata": {
        "id": "WgqNSaOHiW1a",
        "colab_type": "code",
        "colab": {}
      },
      "cell_type": "code",
      "source": [
        ""
      ],
      "execution_count": 0,
      "outputs": []
    }
  ]
}